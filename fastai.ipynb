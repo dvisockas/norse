{
 "cells": [
  {
   "cell_type": "markdown",
   "metadata": {},
   "source": [
    "Let's train SEAE with Fast.ai"
   ]
  },
  {
   "cell_type": "code",
   "execution_count": 9,
   "metadata": {},
   "outputs": [],
   "source": [
    "import os\n",
    "import torch\n",
    "from torch import nn\n",
    "from torch.autograd import Variable\n",
    "from torch.utils.data import DataLoader\n",
    "from torchaudio import transforms\n",
    "from torch.utils.data.sampler import SubsetRandomSampler\n",
    "from data import SpeechDataset\n",
    "import time\n",
    "from model import Autoencoder\n",
    "from transformer import Transformer\n",
    "import pdb\n",
    "import matplotlib.pyplot as plt\n",
    "from pypesq import pesq\n",
    "import torch.nn.functional as F\n",
    "import torchaudio\n",
    "from tqdm.notebook import trange, tqdm\n",
    "from IPython.display import Audio\n",
    "from fastai.vision import *\n",
    "import numpy as np"
   ]
  },
  {
   "cell_type": "code",
   "execution_count": 10,
   "metadata": {},
   "outputs": [],
   "source": [
    "EXPLORE = True"
   ]
  },
  {
   "cell_type": "code",
   "execution_count": 11,
   "metadata": {},
   "outputs": [],
   "source": [
    "batch_size = 128"
   ]
  },
  {
   "cell_type": "code",
   "execution_count": 12,
   "metadata": {},
   "outputs": [],
   "source": [
    "dataset = SpeechDataset('data/clean/360/', 'data/noise/', window_size=16384, overlap=50, snr=10)\n",
    "\n",
    "dataset_size = len(dataset)\n",
    "if EXPLORE:\n",
    "    dataset_size = batch_size * 3\n",
    "indices = list(range(dataset_size))\n",
    "validation_split = .2\n",
    "split = int(np.floor(validation_split * dataset_size))\n",
    "train_indices, val_indices = indices[split:], indices[:split]\n",
    "\n",
    "train_sampler = SubsetRandomSampler(train_indices)\n",
    "valid_sampler = SubsetRandomSampler(val_indices)\n",
    "\n",
    "train_loader = DataLoader(dataset, batch_size=batch_size, sampler=train_sampler)\n",
    "validation_loader = DataLoader(dataset, batch_size=batch_size, sampler=valid_sampler)"
   ]
  },
  {
   "cell_type": "code",
   "execution_count": 13,
   "metadata": {},
   "outputs": [],
   "source": [
    "#MODEL_PATH = f'models/after_6_cycles.pth'\n",
    "model = Autoencoder(bs=batch_size).cuda()\n",
    "#model.load_state_dict(torch.load(MODEL_PATH))"
   ]
  },
  {
   "cell_type": "code",
   "execution_count": 6,
   "metadata": {},
   "outputs": [],
   "source": [
    "def myLoss(output, target):\n",
    "    print(output.shape, target.shape)\n",
    "    output = output.view(-1, 16384)\n",
    "    target = target.view(-1, 16384)\n",
    "    criterion = nn.CrossEntropyLoss()\n",
    "    pdb.set_trace()\n",
    "    loss = criterion(output,target)\n",
    "    \n",
    "    return loss"
   ]
  },
  {
   "cell_type": "code",
   "execution_count": 14,
   "metadata": {},
   "outputs": [],
   "source": [
    "data = DataBunch(train_loader, validation_loader)\n",
    "learner = Learner(data, model, opt_func=torch.optim.RMSprop, loss_func=nn.MSELoss(), callback_fns=ShowGraph)"
   ]
  },
  {
   "cell_type": "code",
   "execution_count": 15,
   "metadata": {},
   "outputs": [
    {
     "data": {
      "text/html": [
       "\n",
       "    <div>\n",
       "        <style>\n",
       "            /* Turns off some styling */\n",
       "            progress {\n",
       "                /* gets rid of default border in Firefox and Opera. */\n",
       "                border: none;\n",
       "                /* Needs to be in here for Safari polyfill so background images work as expected. */\n",
       "                background-size: auto;\n",
       "            }\n",
       "            .progress-bar-interrupted, .progress-bar-interrupted::-webkit-progress-bar {\n",
       "                background: #F44336;\n",
       "            }\n",
       "        </style>\n",
       "      <progress value='18' class='' max='34', style='width:300px; height:20px; vertical-align: middle;'></progress>\n",
       "      52.94% [18/34 00:40<00:36]\n",
       "    </div>\n",
       "    \n",
       "<table border=\"1\" class=\"dataframe\">\n",
       "  <thead>\n",
       "    <tr style=\"text-align: left;\">\n",
       "      <th>epoch</th>\n",
       "      <th>train_loss</th>\n",
       "      <th>valid_loss</th>\n",
       "      <th>time</th>\n",
       "    </tr>\n",
       "  </thead>\n",
       "  <tbody>\n",
       "    <tr>\n",
       "      <td>0</td>\n",
       "      <td>0.012078</td>\n",
       "      <td>#na#</td>\n",
       "      <td>00:02</td>\n",
       "    </tr>\n",
       "    <tr>\n",
       "      <td>1</td>\n",
       "      <td>0.012034</td>\n",
       "      <td>#na#</td>\n",
       "      <td>00:02</td>\n",
       "    </tr>\n",
       "    <tr>\n",
       "      <td>2</td>\n",
       "      <td>0.012076</td>\n",
       "      <td>#na#</td>\n",
       "      <td>00:02</td>\n",
       "    </tr>\n",
       "    <tr>\n",
       "      <td>3</td>\n",
       "      <td>0.012011</td>\n",
       "      <td>#na#</td>\n",
       "      <td>00:02</td>\n",
       "    </tr>\n",
       "    <tr>\n",
       "      <td>4</td>\n",
       "      <td>0.012028</td>\n",
       "      <td>#na#</td>\n",
       "      <td>00:02</td>\n",
       "    </tr>\n",
       "    <tr>\n",
       "      <td>5</td>\n",
       "      <td>0.011973</td>\n",
       "      <td>#na#</td>\n",
       "      <td>00:02</td>\n",
       "    </tr>\n",
       "    <tr>\n",
       "      <td>6</td>\n",
       "      <td>0.011935</td>\n",
       "      <td>#na#</td>\n",
       "      <td>00:02</td>\n",
       "    </tr>\n",
       "    <tr>\n",
       "      <td>7</td>\n",
       "      <td>0.011819</td>\n",
       "      <td>#na#</td>\n",
       "      <td>00:02</td>\n",
       "    </tr>\n",
       "    <tr>\n",
       "      <td>8</td>\n",
       "      <td>0.011656</td>\n",
       "      <td>#na#</td>\n",
       "      <td>00:02</td>\n",
       "    </tr>\n",
       "    <tr>\n",
       "      <td>9</td>\n",
       "      <td>0.011404</td>\n",
       "      <td>#na#</td>\n",
       "      <td>00:02</td>\n",
       "    </tr>\n",
       "    <tr>\n",
       "      <td>10</td>\n",
       "      <td>0.011848</td>\n",
       "      <td>#na#</td>\n",
       "      <td>00:02</td>\n",
       "    </tr>\n",
       "    <tr>\n",
       "      <td>11</td>\n",
       "      <td>0.011444</td>\n",
       "      <td>#na#</td>\n",
       "      <td>00:02</td>\n",
       "    </tr>\n",
       "    <tr>\n",
       "      <td>12</td>\n",
       "      <td>0.010931</td>\n",
       "      <td>#na#</td>\n",
       "      <td>00:02</td>\n",
       "    </tr>\n",
       "    <tr>\n",
       "      <td>13</td>\n",
       "      <td>0.010432</td>\n",
       "      <td>#na#</td>\n",
       "      <td>00:02</td>\n",
       "    </tr>\n",
       "    <tr>\n",
       "      <td>14</td>\n",
       "      <td>0.009829</td>\n",
       "      <td>#na#</td>\n",
       "      <td>00:02</td>\n",
       "    </tr>\n",
       "    <tr>\n",
       "      <td>15</td>\n",
       "      <td>0.009302</td>\n",
       "      <td>#na#</td>\n",
       "      <td>00:02</td>\n",
       "    </tr>\n",
       "    <tr>\n",
       "      <td>16</td>\n",
       "      <td>0.009031</td>\n",
       "      <td>#na#</td>\n",
       "      <td>00:02</td>\n",
       "    </tr>\n",
       "    <tr>\n",
       "      <td>17</td>\n",
       "      <td>0.009190</td>\n",
       "      <td>#na#</td>\n",
       "      <td>00:02</td>\n",
       "    </tr>\n",
       "  </tbody>\n",
       "</table><p>\n",
       "\n",
       "    <div>\n",
       "        <style>\n",
       "            /* Turns off some styling */\n",
       "            progress {\n",
       "                /* gets rid of default border in Firefox and Opera. */\n",
       "                border: none;\n",
       "                /* Needs to be in here for Safari polyfill so background images work as expected. */\n",
       "                background-size: auto;\n",
       "            }\n",
       "            .progress-bar-interrupted, .progress-bar-interrupted::-webkit-progress-bar {\n",
       "                background: #F44336;\n",
       "            }\n",
       "        </style>\n",
       "      <progress value='0' class='' max='3', style='width:300px; height:20px; vertical-align: middle;'></progress>\n",
       "      0.00% [0/3 00:00<00:00]\n",
       "    </div>\n",
       "    "
      ],
      "text/plain": [
       "<IPython.core.display.HTML object>"
      ]
     },
     "metadata": {},
     "output_type": "display_data"
    },
    {
     "name": "stdout",
     "output_type": "stream",
     "text": [
      "LR Finder is complete, type {learner_name}.recorder.plot() to see the graph.\n"
     ]
    }
   ],
   "source": [
    "learner.lr_find()"
   ]
  },
  {
   "cell_type": "code",
   "execution_count": 16,
   "metadata": {},
   "outputs": [
    {
     "data": {
      "image/png": "[encoded data removed]",
      "text/plain": [
       "<Figure size 432x288 with 1 Axes>"
      ]
     },
     "metadata": {
      "needs_background": "light"
     },
     "output_type": "display_data"
    }
   ],
   "source": [
    "learner.recorder.plot()"
   ]
  },
  {
   "cell_type": "code",
   "execution_count": 21,
   "metadata": {},
   "outputs": [
    {
     "data": {
      "text/html": [
       "<table border=\"1\" class=\"dataframe\">\n",
       "  <thead>\n",
       "    <tr style=\"text-align: left;\">\n",
       "      <th>epoch</th>\n",
       "      <th>train_loss</th>\n",
       "      <th>valid_loss</th>\n",
       "      <th>time</th>\n",
       "    </tr>\n",
       "  </thead>\n",
       "  <tbody>\n",
       "    <tr>\n",
       "      <td>0</td>\n",
       "      <td>0.000722</td>\n",
       "      <td>0.000651</td>\n",
       "      <td>00:02</td>\n",
       "    </tr>\n",
       "    <tr>\n",
       "      <td>1</td>\n",
       "      <td>0.000711</td>\n",
       "      <td>0.000649</td>\n",
       "      <td>00:02</td>\n",
       "    </tr>\n",
       "    <tr>\n",
       "      <td>2</td>\n",
       "      <td>0.000717</td>\n",
       "      <td>0.000644</td>\n",
       "      <td>00:02</td>\n",
       "    </tr>\n",
       "    <tr>\n",
       "      <td>3</td>\n",
       "      <td>0.000711</td>\n",
       "      <td>0.000638</td>\n",
       "      <td>00:02</td>\n",
       "    </tr>\n",
       "    <tr>\n",
       "      <td>4</td>\n",
       "      <td>0.000705</td>\n",
       "      <td>0.000630</td>\n",
       "      <td>00:02</td>\n",
       "    </tr>\n",
       "    <tr>\n",
       "      <td>5</td>\n",
       "      <td>0.000699</td>\n",
       "      <td>0.000622</td>\n",
       "      <td>00:02</td>\n",
       "    </tr>\n",
       "    <tr>\n",
       "      <td>6</td>\n",
       "      <td>0.000690</td>\n",
       "      <td>0.000624</td>\n",
       "      <td>00:02</td>\n",
       "    </tr>\n",
       "    <tr>\n",
       "      <td>7</td>\n",
       "      <td>0.000680</td>\n",
       "      <td>0.000613</td>\n",
       "      <td>00:02</td>\n",
       "    </tr>\n",
       "    <tr>\n",
       "      <td>8</td>\n",
       "      <td>0.000674</td>\n",
       "      <td>0.000604</td>\n",
       "      <td>00:02</td>\n",
       "    </tr>\n",
       "    <tr>\n",
       "      <td>9</td>\n",
       "      <td>0.000669</td>\n",
       "      <td>0.000599</td>\n",
       "      <td>00:02</td>\n",
       "    </tr>\n",
       "    <tr>\n",
       "      <td>10</td>\n",
       "      <td>0.000665</td>\n",
       "      <td>0.000594</td>\n",
       "      <td>00:02</td>\n",
       "    </tr>\n",
       "    <tr>\n",
       "      <td>11</td>\n",
       "      <td>0.000663</td>\n",
       "      <td>0.000591</td>\n",
       "      <td>00:02</td>\n",
       "    </tr>\n",
       "    <tr>\n",
       "      <td>12</td>\n",
       "      <td>0.000660</td>\n",
       "      <td>0.000587</td>\n",
       "      <td>00:02</td>\n",
       "    </tr>\n",
       "    <tr>\n",
       "      <td>13</td>\n",
       "      <td>0.000654</td>\n",
       "      <td>0.000584</td>\n",
       "      <td>00:02</td>\n",
       "    </tr>\n",
       "    <tr>\n",
       "      <td>14</td>\n",
       "      <td>0.000649</td>\n",
       "      <td>0.000582</td>\n",
       "      <td>00:02</td>\n",
       "    </tr>\n",
       "    <tr>\n",
       "      <td>15</td>\n",
       "      <td>0.000642</td>\n",
       "      <td>0.000580</td>\n",
       "      <td>00:02</td>\n",
       "    </tr>\n",
       "    <tr>\n",
       "      <td>16</td>\n",
       "      <td>0.000636</td>\n",
       "      <td>0.000579</td>\n",
       "      <td>00:02</td>\n",
       "    </tr>\n",
       "    <tr>\n",
       "      <td>17</td>\n",
       "      <td>0.000631</td>\n",
       "      <td>0.000578</td>\n",
       "      <td>00:02</td>\n",
       "    </tr>\n",
       "    <tr>\n",
       "      <td>18</td>\n",
       "      <td>0.000625</td>\n",
       "      <td>0.000578</td>\n",
       "      <td>00:02</td>\n",
       "    </tr>\n",
       "    <tr>\n",
       "      <td>19</td>\n",
       "      <td>0.000624</td>\n",
       "      <td>0.000578</td>\n",
       "      <td>00:02</td>\n",
       "    </tr>\n",
       "  </tbody>\n",
       "</table>"
      ],
      "text/plain": [
       "<IPython.core.display.HTML object>"
      ]
     },
     "metadata": {},
     "output_type": "display_data"
    },
    {
     "data": {
      "image/png": "[encoded data removed]",
      "text/plain": [
       "<Figure size 432x288 with 1 Axes>"
      ]
     },
     "metadata": {},
     "output_type": "display_data"
    }
   ],
   "source": [
    "learner.fit_one_cycle(20, 1e-5)"
   ]
  },
  {
   "cell_type": "code",
   "execution_count": 17,
   "metadata": {},
   "outputs": [],
   "source": [
    "torch.save(model.state_dict(), f'models/attn_3_cycle.pth')"
   ]
  },
  {
   "cell_type": "markdown",
   "metadata": {},
   "source": [
    "#### Let's hear how the model denoises"
   ]
  },
  {
   "cell_type": "code",
   "execution_count": 22,
   "metadata": {},
   "outputs": [],
   "source": [
    "from pypesq import pesq"
   ]
  },
  {
   "cell_type": "code",
   "execution_count": 23,
   "metadata": {},
   "outputs": [
    {
     "name": "stdout",
     "output_type": "stream",
     "text": [
      "2.8142\n"
     ]
    },
    {
     "data": {
      "text/html": [
       "\n",
       "                <audio  controls=\"controls\" >\n",
       "                    <source src=\"data:audio/wav;base64,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\" type=\"audio/wav\" />\n",
       "                    Your browser does not support the audio element.\n",
       "                </audio>\n",
       "              "
      ],
      "text/plain": [
       "<IPython.lib.display.Audio object>"
      ]
     },
     "execution_count": 23,
     "metadata": {},
     "output_type": "execute_result"
    },
    {
     "data": {
      "image/png": "[encoded data removed]",
      "text/plain": [
       "<Figure size 432x288 with 1 Axes>"
      ]
     },
     "metadata": {
      "needs_background": "light"
     },
     "output_type": "display_data"
    },
    {
     "data": {
      "image/png": "[encoded data removed]",
      "text/plain": [
       "<Figure size 432x288 with 1 Axes>"
      ]
     },
     "metadata": {
      "needs_background": "light"
     },
     "output_type": "display_data"
    }
   ],
   "source": [
    "pesqs = []\n",
    "\n",
    "data = dataset[0]\n",
    "model.eval()\n",
    "with torch.no_grad():\n",
    "    sample = data[0].cuda()\n",
    "    output = model(data[0].reshape(-1, 1, 16384).cuda())\n",
    "    ref = output[0, :, :].cpu().detach().numpy().T[:, 0]\n",
    "    target = data[1][0, :].cpu().detach().numpy().T[:]\n",
    "    plt.figure()\n",
    "    plt.plot(ref)\n",
    "    plt.figure()\n",
    "    plt.plot(target)\n",
    "\n",
    "    pesqs.append(pesq(target, ref, 16000))\n",
    "        \n",
    "print(round(sum(pesqs) / len(pesqs), 4))\n",
    "# Change between ref/target to hear model output/original\n",
    "Audio(ref, rate=16000)"
   ]
  },
  {
   "cell_type": "code",
   "execution_count": 24,
   "metadata": {},
   "outputs": [
    {
     "name": "stdout",
     "output_type": "stream",
     "text": [
      "torch.Size([1, 1, 16384])\n",
      "torch.Size([1, 1, 16384])\n"
     ]
    }
   ],
   "source": [
    "src = dataset[0][0].reshape(1,1, 16384)\n",
    "encoder_layer = nn.TransformerEncoderLayer(d_model=16384, nhead=4)\n",
    "#src = torch.rand(10, 32, 512)\n",
    "out = encoder_layer(src)\n",
    "print(out.shape)"
   ]
  },
  {
   "cell_type": "code",
   "execution_count": null,
   "metadata": {},
   "outputs": [],
   "source": []
  }
 ],
 "metadata": {
  "kernelspec": {
   "display_name": "Python 3",
   "language": "python",
   "name": "python3"
  },
  "language_info": {
   "codemirror_mode": {
    "name": "ipython",
    "version": 3
   },
   "file_extension": ".py",
   "mimetype": "text/x-python",
   "name": "python",
   "nbconvert_exporter": "python",
   "pygments_lexer": "ipython3",
   "version": "3.7.4"
  }
 },
 "nbformat": 4,
 "nbformat_minor": 4
}
