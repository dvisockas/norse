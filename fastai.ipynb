{
 "cells": [
  {
   "cell_type": "markdown",
   "metadata": {},
   "source": [
    "Let's train SEAE with Fast.ai"
   ]
  },
  {
   "cell_type": "code",
   "execution_count": 9,
   "metadata": {},
   "outputs": [],
   "source": [
    "import os\n",
    "import torch\n",
    "from torch import nn\n",
    "from torch.autograd import Variable\n",
    "from torch.utils.data import DataLoader\n",
    "from torchaudio import transforms\n",
    "from torch.utils.data.sampler import SubsetRandomSampler\n",
    "from data import SpeechDataset\n",
    "import time\n",
    "from model import Autoencoder\n",
    "from transformer import Transformer\n",
    "import pdb\n",
    "import matplotlib.pyplot as plt\n",
    "from pypesq import pesq\n",
    "import torch.nn.functional as F\n",
    "import torchaudio\n",
    "from tqdm.notebook import trange, tqdm\n",
    "from IPython.display import Audio\n",
    "from fastai.vision import *\n",
    "import numpy as np"
   ]
  },
  {
   "cell_type": "code",
   "execution_count": 10,
   "metadata": {},
   "outputs": [],
   "source": [
    "EXPLORE = True"
   ]
  },
  {
   "cell_type": "code",
   "execution_count": 11,
   "metadata": {},
   "outputs": [],
   "source": [
    "batch_size = 128"
   ]
  },
  {
   "cell_type": "code",
   "execution_count": 12,
   "metadata": {},
   "outputs": [],
   "source": [
    "dataset = SpeechDataset('data/clean/360/', 'data/noise/', window_size=16384, overlap=50, snr=10)\n",
    "\n",
    "dataset_size = len(dataset)\n",
    "if EXPLORE:\n",
    "    dataset_size = batch_size * 3\n",
    "indices = list(range(dataset_size))\n",
    "validation_split = .2\n",
    "split = int(np.floor(validation_split * dataset_size))\n",
    "train_indices, val_indices = indices[split:], indices[:split]\n",
    "\n",
    "train_sampler = SubsetRandomSampler(train_indices)\n",
    "valid_sampler = SubsetRandomSampler(val_indices)\n",
    "\n",
    "train_loader = DataLoader(dataset, batch_size=batch_size, sampler=train_sampler)\n",
    "validation_loader = DataLoader(dataset, batch_size=batch_size, sampler=valid_sampler)"
   ]
  },
  {
   "cell_type": "code",
   "execution_count": 13,
   "metadata": {},
   "outputs": [],
   "source": [
    "#MODEL_PATH = f'models/after_6_cycles.pth'\n",
    "model = Autoencoder(bs=batch_size).cuda()\n",
    "#model.load_state_dict(torch.load(MODEL_PATH))"
   ]
  },
  {
   "cell_type": "code",
   "execution_count": 6,
   "metadata": {},
   "outputs": [],
   "source": [
    "def myLoss(output, target):\n",
    "    print(output.shape, target.shape)\n",
    "    output = output.view(-1, 16384)\n",
    "    target = target.view(-1, 16384)\n",
    "    criterion = nn.CrossEntropyLoss()\n",
    "    pdb.set_trace()\n",
    "    loss = criterion(output,target)\n",
    "    \n",
    "    return loss"
   ]
  },
  {
   "cell_type": "code",
   "execution_count": 14,
   "metadata": {},
   "outputs": [],
   "source": [
    "data = DataBunch(train_loader, validation_loader)\n",
    "learner = Learner(data, model, opt_func=torch.optim.RMSprop, loss_func=nn.MSELoss(), callback_fns=ShowGraph)"
   ]
  },
  {
   "cell_type": "code",
   "execution_count": 15,
   "metadata": {},
   "outputs": [
    {
     "data": {
      "text/html": [
       "\n",
       "    <div>\n",
       "        <style>\n",
       "            /* Turns off some styling */\n",
       "            progress {\n",
       "                /* gets rid of default border in Firefox and Opera. */\n",
       "                border: none;\n",
       "                /* Needs to be in here for Safari polyfill so background images work as expected. */\n",
       "                background-size: auto;\n",
       "            }\n",
       "            .progress-bar-interrupted, .progress-bar-interrupted::-webkit-progress-bar {\n",
       "                background: #F44336;\n",
       "            }\n",
       "        </style>\n",
       "      <progress value='18' class='' max='34', style='width:300px; height:20px; vertical-align: middle;'></progress>\n",
       "      52.94% [18/34 00:40<00:36]\n",
       "    </div>\n",
       "    \n",
       "<table border=\"1\" class=\"dataframe\">\n",
       "  <thead>\n",
       "    <tr style=\"text-align: left;\">\n",
       "      <th>epoch</th>\n",
       "      <th>train_loss</th>\n",
       "      <th>valid_loss</th>\n",
       "      <th>time</th>\n",
       "    </tr>\n",
       "  </thead>\n",
       "  <tbody>\n",
       "    <tr>\n",
       "      <td>0</td>\n",
       "      <td>0.012078</td>\n",
       "      <td>#na#</td>\n",
       "      <td>00:02</td>\n",
       "    </tr>\n",
       "    <tr>\n",
       "      <td>1</td>\n",
       "      <td>0.012034</td>\n",
       "      <td>#na#</td>\n",
       "      <td>00:02</td>\n",
       "    </tr>\n",
       "    <tr>\n",
       "      <td>2</td>\n",
       "      <td>0.012076</td>\n",
       "      <td>#na#</td>\n",
       "      <td>00:02</td>\n",
       "    </tr>\n",
       "    <tr>\n",
       "      <td>3</td>\n",
       "      <td>0.012011</td>\n",
       "      <td>#na#</td>\n",
       "      <td>00:02</td>\n",
       "    </tr>\n",
       "    <tr>\n",
       "      <td>4</td>\n",
       "      <td>0.012028</td>\n",
       "      <td>#na#</td>\n",
       "      <td>00:02</td>\n",
       "    </tr>\n",
       "    <tr>\n",
       "      <td>5</td>\n",
       "      <td>0.011973</td>\n",
       "      <td>#na#</td>\n",
       "      <td>00:02</td>\n",
       "    </tr>\n",
       "    <tr>\n",
       "      <td>6</td>\n",
       "      <td>0.011935</td>\n",
       "      <td>#na#</td>\n",
       "      <td>00:02</td>\n",
       "    </tr>\n",
       "    <tr>\n",
       "      <td>7</td>\n",
       "      <td>0.011819</td>\n",
       "      <td>#na#</td>\n",
       "      <td>00:02</td>\n",
       "    </tr>\n",
       "    <tr>\n",
       "      <td>8</td>\n",
       "      <td>0.011656</td>\n",
       "      <td>#na#</td>\n",
       "      <td>00:02</td>\n",
       "    </tr>\n",
       "    <tr>\n",
       "      <td>9</td>\n",
       "      <td>0.011404</td>\n",
       "      <td>#na#</td>\n",
       "      <td>00:02</td>\n",
       "    </tr>\n",
       "    <tr>\n",
       "      <td>10</td>\n",
       "      <td>0.011848</td>\n",
       "      <td>#na#</td>\n",
       "      <td>00:02</td>\n",
       "    </tr>\n",
       "    <tr>\n",
       "      <td>11</td>\n",
       "      <td>0.011444</td>\n",
       "      <td>#na#</td>\n",
       "      <td>00:02</td>\n",
       "    </tr>\n",
       "    <tr>\n",
       "      <td>12</td>\n",
       "      <td>0.010931</td>\n",
       "      <td>#na#</td>\n",
       "      <td>00:02</td>\n",
       "    </tr>\n",
       "    <tr>\n",
       "      <td>13</td>\n",
       "      <td>0.010432</td>\n",
       "      <td>#na#</td>\n",
       "      <td>00:02</td>\n",
       "    </tr>\n",
       "    <tr>\n",
       "      <td>14</td>\n",
       "      <td>0.009829</td>\n",
       "      <td>#na#</td>\n",
       "      <td>00:02</td>\n",
       "    </tr>\n",
       "    <tr>\n",
       "      <td>15</td>\n",
       "      <td>0.009302</td>\n",
       "      <td>#na#</td>\n",
       "      <td>00:02</td>\n",
       "    </tr>\n",
       "    <tr>\n",
       "      <td>16</td>\n",
       "      <td>0.009031</td>\n",
       "      <td>#na#</td>\n",
       "      <td>00:02</td>\n",
       "    </tr>\n",
       "    <tr>\n",
       "      <td>17</td>\n",
       "      <td>0.009190</td>\n",
       "      <td>#na#</td>\n",
       "      <td>00:02</td>\n",
       "    </tr>\n",
       "  </tbody>\n",
       "</table><p>\n",
       "\n",
       "    <div>\n",
       "        <style>\n",
       "            /* Turns off some styling */\n",
       "            progress {\n",
       "                /* gets rid of default border in Firefox and Opera. */\n",
       "                border: none;\n",
       "                /* Needs to be in here for Safari polyfill so background images work as expected. */\n",
       "                background-size: auto;\n",
       "            }\n",
       "            .progress-bar-interrupted, .progress-bar-interrupted::-webkit-progress-bar {\n",
       "                background: #F44336;\n",
       "            }\n",
       "        </style>\n",
       "      <progress value='0' class='' max='3', style='width:300px; height:20px; vertical-align: middle;'></progress>\n",
       "      0.00% [0/3 00:00<00:00]\n",
       "    </div>\n",
       "    "
      ],
      "text/plain": [
       "<IPython.core.display.HTML object>"
      ]
     },
     "metadata": {},
     "output_type": "display_data"
    },
    {
     "name": "stdout",
     "output_type": "stream",
     "text": [
      "LR Finder is complete, type {learner_name}.recorder.plot() to see the graph.\n"
     ]
    }
   ],
   "source": [
    "learner.lr_find()"
   ]
  },
  {
   "cell_type": "code",
   "execution_count": 16,
   "metadata": {},
   "outputs": [
    {
     "data": {
      "image/png": "[encoded data removed]",
      "text/plain": [
       "<Figure size 432x288 with 1 Axes>"
      ]
     },
     "metadata": {
      "needs_background": "light"
     },
     "output_type": "display_data"
    }
   ],
   "source": [
    "learner.recorder.plot()"
   ]
  },
  {
   "cell_type": "code",
   "execution_count": null,
   "metadata": {},
   "outputs": [
    {
     "data": {
      "text/html": [
       "\n",
       "    <div>\n",
       "        <style>\n",
       "            /* Turns off some styling */\n",
       "            progress {\n",
       "                /* gets rid of default border in Firefox and Opera. */\n",
       "                border: none;\n",
       "                /* Needs to be in here for Safari polyfill so background images work as expected. */\n",
       "                background-size: auto;\n",
       "            }\n",
       "            .progress-bar-interrupted, .progress-bar-interrupted::-webkit-progress-bar {\n",
       "                background: #F44336;\n",
       "            }\n",
       "        </style>\n",
       "      <progress value='12' class='' max='20', style='width:300px; height:20px; vertical-align: middle;'></progress>\n",
       "      60.00% [12/20 00:31<00:21]\n",
       "    </div>\n",
       "    \n",
       "<table border=\"1\" class=\"dataframe\">\n",
       "  <thead>\n",
       "    <tr style=\"text-align: left;\">\n",
       "      <th>epoch</th>\n",
       "      <th>train_loss</th>\n",
       "      <th>valid_loss</th>\n",
       "      <th>time</th>\n",
       "    </tr>\n",
       "  </thead>\n",
       "  <tbody>\n",
       "    <tr>\n",
       "      <td>0</td>\n",
       "      <td>0.000959</td>\n",
       "      <td>0.000768</td>\n",
       "      <td>00:02</td>\n",
       "    </tr>\n",
       "    <tr>\n",
       "      <td>1</td>\n",
       "      <td>0.000950</td>\n",
       "      <td>0.000763</td>\n",
       "      <td>00:02</td>\n",
       "    </tr>\n",
       "    <tr>\n",
       "      <td>2</td>\n",
       "      <td>0.000934</td>\n",
       "      <td>0.000753</td>\n",
       "      <td>00:02</td>\n",
       "    </tr>\n",
       "    <tr>\n",
       "      <td>3</td>\n",
       "      <td>0.000912</td>\n",
       "      <td>0.000741</td>\n",
       "      <td>00:02</td>\n",
       "    </tr>\n",
       "    <tr>\n",
       "      <td>4</td>\n",
       "      <td>0.000902</td>\n",
       "      <td>0.000725</td>\n",
       "      <td>00:02</td>\n",
       "    </tr>\n",
       "    <tr>\n",
       "      <td>5</td>\n",
       "      <td>0.000897</td>\n",
       "      <td>0.000713</td>\n",
       "      <td>00:02</td>\n",
       "    </tr>\n",
       "    <tr>\n",
       "      <td>6</td>\n",
       "      <td>0.000885</td>\n",
       "      <td>0.000707</td>\n",
       "      <td>00:02</td>\n",
       "    </tr>\n",
       "    <tr>\n",
       "      <td>7</td>\n",
       "      <td>0.000872</td>\n",
       "      <td>0.000696</td>\n",
       "      <td>00:02</td>\n",
       "    </tr>\n",
       "    <tr>\n",
       "      <td>8</td>\n",
       "      <td>0.000859</td>\n",
       "      <td>0.000687</td>\n",
       "      <td>00:02</td>\n",
       "    </tr>\n",
       "    <tr>\n",
       "      <td>9</td>\n",
       "      <td>0.000846</td>\n",
       "      <td>0.000677</td>\n",
       "      <td>00:02</td>\n",
       "    </tr>\n",
       "    <tr>\n",
       "      <td>10</td>\n",
       "      <td>0.000833</td>\n",
       "      <td>0.000673</td>\n",
       "      <td>00:02</td>\n",
       "    </tr>\n",
       "    <tr>\n",
       "      <td>11</td>\n",
       "      <td>0.000820</td>\n",
       "      <td>0.000668</td>\n",
       "      <td>00:02</td>\n",
       "    </tr>\n",
       "  </tbody>\n",
       "</table><p>\n",
       "\n",
       "    <div>\n",
       "        <style>\n",
       "            /* Turns off some styling */\n",
       "            progress {\n",
       "                /* gets rid of default border in Firefox and Opera. */\n",
       "                border: none;\n",
       "                /* Needs to be in here for Safari polyfill so background images work as expected. */\n",
       "                background-size: auto;\n",
       "            }\n",
       "            .progress-bar-interrupted, .progress-bar-interrupted::-webkit-progress-bar {\n",
       "                background: #F44336;\n",
       "            }\n",
       "        </style>\n",
       "      <progress value='1' class='' max='3', style='width:300px; height:20px; vertical-align: middle;'></progress>\n",
       "      33.33% [1/3 00:00<00:01 0.0008]\n",
       "    </div>\n",
       "    "
      ],
      "text/plain": [
       "<IPython.core.display.HTML object>"
      ]
     },
     "metadata": {},
     "output_type": "display_data"
    },
    {
     "data": {
      "image/png": "[encoded data removed]",
      "text/plain": [
       "<Figure size 432x288 with 1 Axes>"
      ]
     },
     "metadata": {},
     "output_type": "display_data"
    }
   ],
   "source": [
    "learner.fit_one_cycle(20, 1e-5)"
   ]
  },
  {
   "cell_type": "code",
   "execution_count": 17,
   "metadata": {},
   "outputs": [],
   "source": [
    "torch.save(model.state_dict(), f'models/attn_3_cycle.pth')"
   ]
  },
  {
   "cell_type": "markdown",
   "metadata": {},
   "source": [
    "#### Let's hear how the model denoises"
   ]
  },
  {
   "cell_type": "code",
   "execution_count": 11,
   "metadata": {},
   "outputs": [],
   "source": [
    "from pypesq import pesq"
   ]
  },
  {
   "cell_type": "code",
   "execution_count": 13,
   "metadata": {},
   "outputs": [
    {
     "name": "stdout",
     "output_type": "stream",
     "text": [
      "0.2524\n"
     ]
    },
    {
     "data": {
      "text/html": [
       "\n",
       "                <audio  controls=\"controls\" >\n",
       "                    <source src=\"data:audio/wav;base64,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\" type=\"audio/wav\" />\n",
       "                    Your browser does not support the audio element.\n",
       "                </audio>\n",
       "              "
      ],
      "text/plain": [
       "<IPython.lib.display.Audio object>"
      ]
     },
     "execution_count": 13,
     "metadata": {},
     "output_type": "execute_result"
    },
    {
     "data": {
      "image/png": "[encoded data removed]",
      "text/plain": [
       "<Figure size 432x288 with 1 Axes>"
      ]
     },
     "metadata": {
      "needs_background": "light"
     },
     "output_type": "display_data"
    },
    {
     "data": {
      "image/png": "[encoded data removed]",
      "text/plain": [
       "<Figure size 432x288 with 1 Axes>"
      ]
     },
     "metadata": {
      "needs_background": "light"
     },
     "output_type": "display_data"
    }
   ],
   "source": [
    "pesqs = []\n",
    "\n",
    "data = dataset[0]\n",
    "model.eval()\n",
    "with torch.no_grad():\n",
    "    sample = data[0].cuda()\n",
    "    output = model(data[0].reshape(-1, 1, 16384).cuda())\n",
    "    ref = output[0, :, :].cpu().detach().numpy().T[:, 0]\n",
    "    target = data[1][0, :].cpu().detach().numpy().T[:]\n",
    "    plt.figure()\n",
    "    plt.plot(ref)\n",
    "    plt.figure()\n",
    "    plt.plot(target)\n",
    "\n",
    "    pesqs.append(pesq(target, ref, 16000))\n",
    "        \n",
    "print(round(sum(pesqs) / len(pesqs), 4))\n",
    "# Change between ref/target to hear model output/original\n",
    "Audio(ref, rate=16000)"
   ]
  },
  {
   "cell_type": "code",
   "execution_count": 24,
   "metadata": {},
   "outputs": [
    {
     "name": "stdout",
     "output_type": "stream",
     "text": [
      "torch.Size([1, 1, 16384])\n",
      "torch.Size([1, 1, 16384])\n"
     ]
    }
   ],
   "source": [
    "src = dataset[0][0].reshape(1,1, 16384)\n",
    "encoder_layer = nn.TransformerEncoderLayer(d_model=16384, nhead=4)\n",
    "#src = torch.rand(10, 32, 512)\n",
    "out = encoder_layer(src)\n",
    "print(out.shape)"
   ]
  },
  {
   "cell_type": "code",
   "execution_count": null,
   "metadata": {},
   "outputs": [],
   "source": []
  }
 ],
 "metadata": {
  "kernelspec": {
   "display_name": "Python 3",
   "language": "python",
   "name": "python3"
  },
  "language_info": {
   "codemirror_mode": {
    "name": "ipython",
    "version": 3
   },
   "file_extension": ".py",
   "mimetype": "text/x-python",
   "name": "python",
   "nbconvert_exporter": "python",
   "pygments_lexer": "ipython3",
   "version": "3.7.4"
  }
 },
 "nbformat": 4,
 "nbformat_minor": 4
}
