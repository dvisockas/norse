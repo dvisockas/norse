{
 "cells": [
  {
   "cell_type": "markdown",
   "metadata": {},
   "source": [
    "### SEGAN without the GAN"
   ]
  },
  {
   "cell_type": "markdown",
   "metadata": {},
   "source": [
    "Original SEGAN paper: https://arxiv.org/pdf/1703.09452.pdf"
   ]
  },
  {
   "cell_type": "code",
   "execution_count": 1,
   "metadata": {},
   "outputs": [],
   "source": [
    "import os\n",
    "import torch\n",
    "import re\n",
    "from torch import nn\n",
    "from torch.autograd import Variable\n",
    "from torch.utils.data import DataLoader\n",
    "from torchaudio import transforms\n",
    "from data import SpeechDataset\n",
    "import time\n",
    "from model import Autoencoder\n",
    "import pdb\n",
    "import matplotlib.pyplot as plt\n",
    "from pypesq import pesq\n",
    "import torch.nn.functional as F\n",
    "import torchaudio\n",
    "from tqdm.notebook import trange, tqdm\n",
    "from IPython.display import Audio"
   ]
  },
  {
   "cell_type": "code",
   "execution_count": 2,
   "metadata": {},
   "outputs": [],
   "source": [
    "num_epochs = 10\n",
    "batch_size = 512\n",
    "learning_rate = 1e-5"
   ]
  },
  {
   "cell_type": "code",
   "execution_count": 3,
   "metadata": {},
   "outputs": [],
   "source": [
    "epochs = filter(lambda x: re.search(\"^seae_epoch_\\d+\\.pth$\", x), os.listdir('models'))\n",
    "epochs = map(lambda x: int(re.search(\"^seae_epoch_(\\d+)\\.pth$\", x)[1]), epochs)\n",
    "last_epoch = max(epochs)"
   ]
  },
  {
   "cell_type": "code",
   "execution_count": 4,
   "metadata": {},
   "outputs": [],
   "source": [
    "MODEL_PATH = f'models/seae_epoch_{last_epoch}.pth'"
   ]
  },
  {
   "cell_type": "markdown",
   "metadata": {},
   "source": [
    "If you'd like to run the training loop, download the OpenSLR12 dataset (http://www.openslr.org/12/), convert all .flac files to .wav and copy to 'data/clean/open_slr'"
   ]
  },
  {
   "cell_type": "code",
   "execution_count": 5,
   "metadata": {},
   "outputs": [],
   "source": [
    "dataset = SpeechDataset('data/clean/360/', 'data/noise/', window_size=16384, overlap=50)"
   ]
  },
  {
   "cell_type": "code",
   "execution_count": 6,
   "metadata": {},
   "outputs": [],
   "source": [
    "dataloader = DataLoader(dataset, batch_size=batch_size, shuffle=False)"
   ]
  },
  {
   "cell_type": "code",
   "execution_count": null,
   "metadata": {
    "scrolled": true
   },
   "outputs": [
    {
     "data": {
      "application/vnd.jupyter.widget-view+json": {
       "model_id": "186ca096bdca417c99fa2ba849082663",
       "version_major": 2,
       "version_minor": 0
      },
      "text/plain": [
       "HBox(children=(FloatProgress(value=0.0, max=10.0), HTML(value='')))"
      ]
     },
     "metadata": {},
     "output_type": "display_data"
    },
    {
     "name": "stdout",
     "output_type": "stream",
     "text": [
      "Starting epoch 4\n"
     ]
    },
    {
     "data": {
      "application/vnd.jupyter.widget-view+json": {
       "model_id": "76d17cbdbcd54621a08786ed31cab44a",
       "version_major": 2,
       "version_minor": 0
      },
      "text/plain": [
       "HBox(children=(FloatProgress(value=1.0, bar_style='info', max=1.0), HTML(value='')))"
      ]
     },
     "metadata": {},
     "output_type": "display_data"
    }
   ],
   "source": [
    "model = Autoencoder(bs=batch_size).cuda()\n",
    "model.load_state_dict(torch.load(MODEL_PATH))\n",
    "criterion = nn.MSELoss()\n",
    "optimizer = torch.optim.RMSprop(model.parameters(), lr=learning_rate, weight_decay=1e-5)\n",
    "\n",
    "model.train()\n",
    "\n",
    "# data = next(iter(dataloader))\n",
    "for epoch in trange(num_epochs):\n",
    "    print(f'Starting epoch {epoch + 1 + last_epoch}')\n",
    "    \n",
    "    pbar = tqdm()\n",
    "    pbar.reset(total=(len(dataset) // batch_size))\n",
    "    \n",
    "    for i, data in enumerate(dataloader):\n",
    "        inp = Variable(data[0]).cuda()\n",
    "        output = model(inp)\n",
    "        loss = criterion(output, Variable(data[1]).cuda())\n",
    "\n",
    "        optimizer.zero_grad()\n",
    "        loss.backward()\n",
    "        optimizer.step()\n",
    "        pbar.update()\n",
    "    \n",
    "    pbar.refresh()\n",
    "    \n",
    "    torch.save(model.state_dict(), f'models/noisy_seae_epoch_{epoch + last_epoch + 1}.pth')\n",
    "    \n",
    "    if True or epoch % 5 == 0:\n",
    "        print(f'epoch [{epoch}/{num_epochs}]')\n",
    "        print(round(loss.item(), 5))"
   ]
  },
  {
   "cell_type": "code",
   "execution_count": null,
   "metadata": {},
   "outputs": [],
   "source": [
    "model"
   ]
  },
  {
   "cell_type": "code",
   "execution_count": null,
   "metadata": {},
   "outputs": [],
   "source": [
    "pesqs = []\n",
    "\n",
    "model.eval()\n",
    "with torch.no_grad():\n",
    "    sample = data.cuda()\n",
    "    for i, _s in enumerate(sample[:100]):\n",
    "        output = model(sample)\n",
    "        ref = output[i, :, :].cpu().detach().numpy().T\n",
    "        target = sample[i, :, :].cpu().detach().numpy().T\n",
    "        # plt.figure()\n",
    "        # plt.plot(ref)\n",
    "        # plt.figure()\n",
    "        # plt.plot(target)\n",
    "\n",
    "        pesqs.append(pesq(ref[:, 0], target[:, 0], 16000))\n",
    "print(sum(pesqs) / len(pesqs))\n",
    "Audio(ref[:, 0], rate=16000)"
   ]
  },
  {
   "cell_type": "code",
   "execution_count": null,
   "metadata": {},
   "outputs": [],
   "source": [
    "f = 'data/clean/open_slr/2902-9006-0001.wav'\n",
    "wave, _ = torchaudio.load(f)\n",
    "specgram = torchaudio.transforms.Spectrogram(1024, 300)(wave)\n",
    "\n",
    "print(\"Shape of spectrogram: {}\".format(specgram.size()))\n",
    "\n",
    "plt.figure()\n",
    "plt.imshow(specgram.log2()[0,:,:].numpy())"
   ]
  },
  {
   "cell_type": "code",
   "execution_count": null,
   "metadata": {},
   "outputs": [],
   "source": []
  }
 ],
 "metadata": {
  "kernelspec": {
   "display_name": "Python 3",
   "language": "python",
   "name": "python3"
  },
  "language_info": {
   "codemirror_mode": {
    "name": "ipython",
    "version": 3
   },
   "file_extension": ".py",
   "mimetype": "text/x-python",
   "name": "python",
   "nbconvert_exporter": "python",
   "pygments_lexer": "ipython3",
   "version": "3.7.4"
  }
 },
 "nbformat": 4,
 "nbformat_minor": 4
}
