{
 "cells": [
  {
   "cell_type": "code",
   "execution_count": 1,
   "metadata": {},
   "outputs": [],
   "source": [
    "import os\n",
    "import torch\n",
    "from torch import nn\n",
    "from torch.autograd import Variable\n",
    "from torch.utils.data import DataLoader\n",
    "from torchaudio import transforms\n",
    "from data import CleanSpeechDataset\n",
    "import time\n",
    "#from model import Autoencoder\n",
    "import pdb\n",
    "import matplotlib.pyplot as plt"
   ]
  },
  {
   "cell_type": "code",
   "execution_count": 2,
   "metadata": {},
   "outputs": [],
   "source": [
    "import torch\n",
    "from torch import nn\n",
    "from torch.autograd import Variable\n",
    "from torchaudio import transforms\n",
    "import torch.nn.functional as F\n",
    "import torchaudio"
   ]
  },
  {
   "cell_type": "code",
   "execution_count": 3,
   "metadata": {},
   "outputs": [],
   "source": [
    "num_epochs = 50\n",
    "batch_size = 1024\n",
    "learning_rate = 1e-3"
   ]
  },
  {
   "cell_type": "code",
   "execution_count": 4,
   "metadata": {},
   "outputs": [],
   "source": [
    "dataset = CleanSpeechDataset('data/clean/open_slr/', 8192, 50)"
   ]
  },
  {
   "cell_type": "code",
   "execution_count": 5,
   "metadata": {},
   "outputs": [],
   "source": [
    "dataloader = DataLoader(dataset, batch_size=batch_size, shuffle=False)"
   ]
  },
  {
   "cell_type": "markdown",
   "metadata": {},
   "source": [
    "nn.Conv1d(in_channels, out_channels, kernel_size, stride=1, padding=0, dilation=1, groups=1, bias=True, padding_mode='zeros')"
   ]
  },
  {
   "cell_type": "markdown",
   "metadata": {},
   "source": [
    "16384×1, 8192×16, 4096×32,\n",
    "2048×32, 1024×64, 512×64, 256×128, 128×128, 64×256,\n",
    "32×256, 16×512, and 8×1024"
   ]
  },
  {
   "cell_type": "code",
   "execution_count": 6,
   "metadata": {},
   "outputs": [],
   "source": [
    "class Autoencoder(nn.Module):\n",
    "    def __init__(self):\n",
    "        super(Autoencoder, self).__init__()\n",
    "        \n",
    "        self.in_dropout = nn.Dropout(p=0.3)\n",
    "        \n",
    "        self.conv_1 = nn.Conv1d(1, 16, 32, 2, 15)\n",
    "        self.norm_1 = nn.PReLU()\n",
    "        self.conv_2 = nn.Conv1d(16, 32, 32, 2, 15)\n",
    "        self.norm_2 = nn.PReLU()\n",
    "        self.conv_3 = nn.Conv1d(32, 32, 32, 2, 15)\n",
    "        self.norm_3 = nn.PReLU()\n",
    "        self.conv_4 = nn.Conv1d(32, 64, 32, 2, 15)\n",
    "        self.norm_4 = nn.PReLU()\n",
    "        self.conv_5 = nn.Conv1d(64, 64, 32, 2, 15)\n",
    "        self.norm_5 = nn.PReLU()\n",
    "        self.conv_6 = nn.Conv1d(64, 128, 32, 2, 15)\n",
    "        self.norm_6 = nn.PReLU()\n",
    "        self.conv_7 = nn.Conv1d(128, 128, 32, 2, 15)\n",
    "        self.norm_7 = nn.PReLU()\n",
    "        self.conv_8 = nn.Conv1d(128, 256, 32, 2, 15)\n",
    "        self.norm_8 = nn.PReLU()\n",
    "        self.conv_9 = nn.Conv1d(256, 256, 32, 2, 15)\n",
    "        self.norm_9 = nn.PReLU()\n",
    "        self.conv_10 = nn.Conv1d(256, 512, 32, 2, 15)\n",
    "        self.norm_10 = nn.PReLU()\n",
    "        self.conv_11 = nn.Conv1d(512, 1024, 32, 2, 15)\n",
    "        self.norm_11 = nn.PReLU()\n",
    "        \n",
    "        self.deconv_11 = nn.ConvTranspose1d(1024, 512, 32, 2, 15)\n",
    "        self.norm_d_11 = nn.PReLU()\n",
    "        self.deconv_10 = nn.ConvTranspose1d(1024, 256, 32, 2, 15)\n",
    "        self.norm_d_10 = nn.PReLU()\n",
    "        self.deconv_9 = nn.ConvTranspose1d(512, 256, 32, 2, 15)\n",
    "        self.norm_d_9 = nn.PReLU()\n",
    "        self.deconv_8 = nn.ConvTranspose1d(512, 128, 32, 2, 15)\n",
    "        self.norm_d_8 = nn.PReLU()\n",
    "        self.deconv_7 = nn.ConvTranspose1d(256, 128, 32, 2, 15)\n",
    "        self.norm_d_7 = nn.PReLU()\n",
    "        self.deconv_6 = nn.ConvTranspose1d(256, 64, 32, 2, 15)\n",
    "        self.norm_d_6 = nn.PReLU()\n",
    "        self.deconv_5 = nn.ConvTranspose1d(128, 64, 32, 2, 15)\n",
    "        self.norm_d_5 = nn.PReLU()\n",
    "        self.deconv_4 = nn.ConvTranspose1d(128, 32, 32, 2, 15)\n",
    "        self.norm_d_4 = nn.PReLU()\n",
    "        self.deconv_3 = nn.ConvTranspose1d(64, 32, 32, 2, 15)\n",
    "        self.norm_d_3 = nn.PReLU()\n",
    "        self.deconv_2 = nn.ConvTranspose1d(64, 16, 32, 2, 15)\n",
    "        self.norm_d_2 = nn.PReLU()\n",
    "        self.deconv_1 = nn.ConvTranspose1d(32, 1, 32, 2, 15)\n",
    "        self.norm_d_1 = nn.Tanh()\n",
    "\n",
    "        self.init_weights()\n",
    "\n",
    "    def init_weights(self):\n",
    "        for m in self.modules():\n",
    "            if isinstance(m, nn.Conv1d) or isinstance(m, nn.ConvTranspose1d):\n",
    "                nn.init.xavier_normal_(m.weight.data)\n",
    "\n",
    "    def forward(self, x):\n",
    "        c_1 = self.conv_1(x)\n",
    "        c_2 = self.conv_2(self.norm_1(c_1))\n",
    "        c_3 = self.conv_3(self.norm_2(c_2))\n",
    "        c_4 = self.conv_4(self.norm_3(c_3))\n",
    "        c_5 = self.conv_5(self.norm_4(c_4))\n",
    "        c_6 = self.conv_6(self.norm_5(c_5))\n",
    "        c_7 = self.conv_7(self.norm_6(c_6))\n",
    "        c_8 = self.conv_8(self.norm_7(c_7))\n",
    "        c_9 = self.conv_9(self.norm_8(c_8))\n",
    "        c_10 = self.conv_10(self.norm_9(c_9))\n",
    "        c_11 = self.conv_11(self.norm_10(c_10))\n",
    "        c_11 = self.norm_11(c_11)\n",
    "\n",
    "        d_11 = self.deconv_11(c_11)\n",
    "        pre_d_10 = torch.cat((d_11, c_10), dim=1)\n",
    "        d_10 = self.norm_d_10(self.deconv_10(pre_d_10))\n",
    "        pre_d_9 = torch.cat((d_10, c_9), dim=1)\n",
    "        d_9 = self.norm_d_9(self.deconv_9(pre_d_9))\n",
    "        pre_d_8 = torch.cat((d_9, c_8), dim=1)\n",
    "        d_8 = self.norm_d_8(self.deconv_8(pre_d_8))\n",
    "        pre_d_7 = torch.cat((d_8, c_7), dim=1)\n",
    "        d_7 = self.norm_d_7(self.deconv_7(pre_d_7))\n",
    "        pre_d_6 = torch.cat((d_7, c_6), dim=1)\n",
    "        d_6 = self.norm_d_6(self.deconv_6(pre_d_6))\n",
    "        pre_d_5 = torch.cat((d_6, c_5), dim=1)\n",
    "        d_5 = self.norm_d_5(self.deconv_5(pre_d_5))\n",
    "        pre_d_4 = torch.cat((d_5, c_4), dim=1)\n",
    "        d_4 = self.norm_d_4(self.deconv_4(pre_d_4))\n",
    "        pre_d_3 = torch.cat((d_4, c_3), dim=1)\n",
    "        d_3 = self.norm_d_3(self.deconv_3(pre_d_3))\n",
    "        pre_d_2 = torch.cat((d_3, c_2), dim=1)\n",
    "        d_2 = self.norm_d_2(self.deconv_2(pre_d_2))\n",
    "        pre_d_1 = torch.cat((d_2, c_1), dim=1)\n",
    "        d_1 = self.norm_d_1(self.deconv_1(pre_d_1))\n",
    "\n",
    "        return d_1"
   ]
  },
  {
   "cell_type": "code",
   "execution_count": null,
   "metadata": {},
   "outputs": [
    {
     "name": "stdout",
     "output_type": "stream",
     "text": [
      "Epoch took 53.683s\n",
      "Expected hours to train: 0.7455974784162309\n",
      "epoch [1/50]\n",
      "1.00555\n",
      "epoch [6/50]\n",
      "1.0055\n"
     ]
    }
   ],
   "source": [
    "model = Autoencoder().cuda()\n",
    "criterion = nn.MSELoss()\n",
    "optimizer = torch.optim.RMSprop(model.parameters(), lr=learning_rate, weight_decay=1e-5)\n",
    "\n",
    "model.train()\n",
    "for epoch in range(num_epochs):\n",
    "    start = time.time()\n",
    "    \n",
    "    for i, data in enumerate(dataloader):\n",
    "        sample = data\n",
    "        sample = Variable(sample).cuda()\n",
    "        output = model(sample)\n",
    "        loss = criterion(output, sample)\n",
    "\n",
    "        optimizer.zero_grad()\n",
    "        loss.backward()\n",
    "        optimizer.step()\n",
    "    \n",
    "    if epoch == 0:\n",
    "        time_diff = time.time() - start\n",
    "        print(f'Epoch took {round(time_diff, 4)}s')\n",
    "        print(f'Expected hours to train: {time_diff * num_epochs / 3600 }')\n",
    "    if epoch % 5 == 0:\n",
    "        print(f'epoch [{epoch+1}/{num_epochs}]')\n",
    "        print(round(loss.item(), 5))"
   ]
  },
  {
   "cell_type": "code",
   "execution_count": null,
   "metadata": {},
   "outputs": [],
   "source": [
    "model"
   ]
  },
  {
   "cell_type": "code",
   "execution_count": null,
   "metadata": {},
   "outputs": [],
   "source": [
    "model.eval()\n",
    "with torch.no_grad():\n",
    "    sample = Variable(data[1000]).cuda()\n",
    "    output = model(sample)\n",
    "    plt.plot(output.cpu().detach().numpy().T)\n",
    "    plt.plot(sample.cpu().detach().numpy().T)\n",
    "#plt.plot(sample.cpu().numpy())"
   ]
  },
  {
   "cell_type": "code",
   "execution_count": null,
   "metadata": {},
   "outputs": [],
   "source": [
    "f = 'data/clean/open_slr/2902-9006-0001.wav'\n",
    "wave, _ = torchaudio.load(f)\n",
    "specgram = torchaudio.transforms.Spectrogram(1024, 300)(wave)\n",
    "\n",
    "print(\"Shape of spectrogram: {}\".format(specgram.size()))\n",
    "\n",
    "plt.figure()\n",
    "plt.imshow(specgram.log2()[0,:,:].numpy())"
   ]
  }
 ],
 "metadata": {
  "kernelspec": {
   "display_name": "Python 3",
   "language": "python",
   "name": "python3"
  },
  "language_info": {
   "codemirror_mode": {
    "name": "ipython",
    "version": 3
   },
   "file_extension": ".py",
   "mimetype": "text/x-python",
   "name": "python",
   "nbconvert_exporter": "python",
   "pygments_lexer": "ipython3",
   "version": "3.7.4"
  }
 },
 "nbformat": 4,
 "nbformat_minor": 4
}
