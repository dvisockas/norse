{
 "cells": [
  {
   "cell_type": "markdown",
   "metadata": {},
   "source": [
    "### SEGAN without the GAN"
   ]
  },
  {
   "cell_type": "markdown",
   "metadata": {},
   "source": [
    "Original SEGAN paper: https://arxiv.org/pdf/1703.09452.pdf"
   ]
  },
  {
   "cell_type": "code",
   "execution_count": 52,
   "metadata": {},
   "outputs": [],
   "source": [
    "import os\n",
    "import torch\n",
    "from torch import nn\n",
    "from torch.autograd import Variable\n",
    "from torch.utils.data import DataLoader\n",
    "from torchaudio import transforms\n",
    "from data import CleanSpeechDataset\n",
    "import time\n",
    "from model import Autoencoder\n",
    "import pdb\n",
    "import matplotlib.pyplot as plt\n",
    "from pypesq import pesq"
   ]
  },
  {
   "cell_type": "code",
   "execution_count": 19,
   "metadata": {},
   "outputs": [],
   "source": [
    "import torch\n",
    "from torch import nn\n",
    "from torch.autograd import Variable\n",
    "from torchaudio import transforms\n",
    "import torch.nn.functional as F\n",
    "import torchaudio"
   ]
  },
  {
   "cell_type": "code",
   "execution_count": 20,
   "metadata": {},
   "outputs": [],
   "source": [
    "num_epochs = 50\n",
    "batch_size = 1024\n",
    "learning_rate = 0.00003"
   ]
  },
  {
   "cell_type": "markdown",
   "metadata": {},
   "source": [
    "If you'd like to run the training loop, download the OpenSLR12 dataset (http://www.openslr.org/12/) and copy all the wav files to 'data/clean/open_slr'"
   ]
  },
  {
   "cell_type": "code",
   "execution_count": 21,
   "metadata": {},
   "outputs": [],
   "source": [
    "dataset = CleanSpeechDataset('data/clean/open_slr/', 8192, 50)"
   ]
  },
  {
   "cell_type": "code",
   "execution_count": 22,
   "metadata": {},
   "outputs": [],
   "source": [
    "dataloader = DataLoader(dataset, batch_size=batch_size, shuffle=False)"
   ]
  },
  {
   "cell_type": "code",
   "execution_count": 24,
   "metadata": {},
   "outputs": [
    {
     "name": "stdout",
     "output_type": "stream",
     "text": [
      "Epoch took 117.7682s\n",
      "Expected hours to train: 3.271337628364563\n",
      "epoch [0/100]\n",
      "0.00306\n",
      "epoch [5/100]\n",
      "0.00119\n",
      "epoch [10/100]\n",
      "0.00094\n",
      "epoch [15/100]\n",
      "0.0008\n",
      "epoch [20/100]\n",
      "0.00073\n",
      "epoch [25/100]\n",
      "0.00067\n",
      "epoch [30/100]\n",
      "0.00064\n",
      "epoch [35/100]\n",
      "0.00063\n",
      "epoch [40/100]\n",
      "0.00062\n",
      "epoch [45/100]\n",
      "0.00061\n",
      "epoch [50/100]\n",
      "0.0006\n",
      "epoch [55/100]\n",
      "0.0006\n",
      "epoch [60/100]\n",
      "0.00059\n",
      "epoch [65/100]\n",
      "0.00059\n",
      "epoch [70/100]\n",
      "0.00058\n",
      "epoch [75/100]\n",
      "0.00058\n",
      "epoch [80/100]\n",
      "0.00057\n",
      "epoch [85/100]\n",
      "0.00059\n",
      "epoch [90/100]\n",
      "0.00056\n",
      "epoch [95/100]\n",
      "0.00055\n"
     ]
    }
   ],
   "source": [
    "model = Autoencoder().cuda()\n",
    "criterion = nn.MSELoss()\n",
    "optimizer = torch.optim.RMSprop(model.parameters(), lr=learning_rate, weight_decay=1e-5)\n",
    "\n",
    "model.train()\n",
    "\n",
    "# data = next(iter(dataloader))\n",
    "for epoch in range(num_epochs):\n",
    "    start = time.time()\n",
    "\n",
    "    for i, data in enumerate(dataloader):\n",
    "        sample = data\n",
    "        sample = Variable(sample).cuda()\n",
    "        output = model(sample)\n",
    "        loss = criterion(output, sample)\n",
    "\n",
    "        optimizer.zero_grad()\n",
    "        loss.backward()\n",
    "        optimizer.step()\n",
    "\n",
    "    if epoch == 0:\n",
    "        time_diff = time.time() - start\n",
    "        print(f'Epoch took {round(time_diff, 4)}s')\n",
    "        print(f'Expected hours to train: {round(time_diff * num_epochs / 3600, 2) }')\n",
    "    if epoch % 5 == 0:\n",
    "        print(f'epoch [{epoch}/{num_epochs}]')\n",
    "        print(round(loss.item(), 5))"
   ]
  },
  {
   "cell_type": "code",
   "execution_count": 25,
   "metadata": {},
   "outputs": [
    {
     "data": {
      "text/plain": [
       "Autoencoder(\n",
       "  (in_dropout): Dropout(p=0.3, inplace=False)\n",
       "  (conv_1): Conv1d(1, 16, kernel_size=(32,), stride=(2,), padding=(15,))\n",
       "  (norm_1): PReLU(num_parameters=1)\n",
       "  (conv_2): Conv1d(16, 32, kernel_size=(32,), stride=(2,), padding=(15,))\n",
       "  (norm_2): PReLU(num_parameters=1)\n",
       "  (conv_3): Conv1d(32, 32, kernel_size=(32,), stride=(2,), padding=(15,))\n",
       "  (norm_3): PReLU(num_parameters=1)\n",
       "  (conv_4): Conv1d(32, 64, kernel_size=(32,), stride=(2,), padding=(15,))\n",
       "  (norm_4): PReLU(num_parameters=1)\n",
       "  (conv_5): Conv1d(64, 64, kernel_size=(32,), stride=(2,), padding=(15,))\n",
       "  (norm_5): PReLU(num_parameters=1)\n",
       "  (conv_6): Conv1d(64, 128, kernel_size=(32,), stride=(2,), padding=(15,))\n",
       "  (norm_6): PReLU(num_parameters=1)\n",
       "  (conv_7): Conv1d(128, 128, kernel_size=(32,), stride=(2,), padding=(15,))\n",
       "  (norm_7): PReLU(num_parameters=1)\n",
       "  (conv_8): Conv1d(128, 256, kernel_size=(32,), stride=(2,), padding=(15,))\n",
       "  (norm_8): PReLU(num_parameters=1)\n",
       "  (conv_9): Conv1d(256, 256, kernel_size=(32,), stride=(2,), padding=(15,))\n",
       "  (norm_9): PReLU(num_parameters=1)\n",
       "  (conv_10): Conv1d(256, 512, kernel_size=(32,), stride=(2,), padding=(15,))\n",
       "  (norm_10): PReLU(num_parameters=1)\n",
       "  (conv_11): Conv1d(512, 1024, kernel_size=(32,), stride=(2,), padding=(15,))\n",
       "  (norm_11): PReLU(num_parameters=1)\n",
       "  (deconv_11): ConvTranspose1d(1024, 512, kernel_size=(32,), stride=(2,), padding=(15,))\n",
       "  (norm_d_11): PReLU(num_parameters=1)\n",
       "  (deconv_10): ConvTranspose1d(1024, 256, kernel_size=(32,), stride=(2,), padding=(15,))\n",
       "  (norm_d_10): PReLU(num_parameters=1)\n",
       "  (deconv_9): ConvTranspose1d(512, 256, kernel_size=(32,), stride=(2,), padding=(15,))\n",
       "  (norm_d_9): PReLU(num_parameters=1)\n",
       "  (deconv_8): ConvTranspose1d(512, 128, kernel_size=(32,), stride=(2,), padding=(15,))\n",
       "  (norm_d_8): PReLU(num_parameters=1)\n",
       "  (deconv_7): ConvTranspose1d(256, 128, kernel_size=(32,), stride=(2,), padding=(15,))\n",
       "  (norm_d_7): PReLU(num_parameters=1)\n",
       "  (deconv_6): ConvTranspose1d(256, 64, kernel_size=(32,), stride=(2,), padding=(15,))\n",
       "  (norm_d_6): PReLU(num_parameters=1)\n",
       "  (deconv_5): ConvTranspose1d(128, 64, kernel_size=(32,), stride=(2,), padding=(15,))\n",
       "  (norm_d_5): PReLU(num_parameters=1)\n",
       "  (deconv_4): ConvTranspose1d(128, 32, kernel_size=(32,), stride=(2,), padding=(15,))\n",
       "  (norm_d_4): PReLU(num_parameters=1)\n",
       "  (deconv_3): ConvTranspose1d(64, 32, kernel_size=(32,), stride=(2,), padding=(15,))\n",
       "  (norm_d_3): PReLU(num_parameters=1)\n",
       "  (deconv_2): ConvTranspose1d(64, 16, kernel_size=(32,), stride=(2,), padding=(15,))\n",
       "  (norm_d_2): PReLU(num_parameters=1)\n",
       "  (deconv_1): ConvTranspose1d(32, 1, kernel_size=(32,), stride=(2,), padding=(15,))\n",
       "  (norm_d_1): Tanh()\n",
       ")"
      ]
     },
     "execution_count": 25,
     "metadata": {},
     "output_type": "execute_result"
    }
   ],
   "source": [
    "model"
   ]
  },
  {
   "cell_type": "code",
   "execution_count": 61,
   "metadata": {},
   "outputs": [
    {
     "name": "stdout",
     "output_type": "stream",
     "text": [
      "3.7014033794403076\n"
     ]
    },
    {
     "data": {
      "image/png": "[encoded data removed]",
      "text/plain": [
       "<Figure size 432x288 with 1 Axes>"
      ]
     },
     "metadata": {
      "needs_background": "light"
     },
     "output_type": "display_data"
    },
    {
     "data": {
      "image/png": "[encoded data removed]",
      "text/plain": [
       "<Figure size 432x288 with 1 Axes>"
      ]
     },
     "metadata": {
      "needs_background": "light"
     },
     "output_type": "display_data"
    }
   ],
   "source": [
    "model.eval()\n",
    "with torch.no_grad():\n",
    "    sample = data.cuda()\n",
    "    n = 300\n",
    "    output = model(sample)\n",
    "    ref = output[n, :, :].cpu().detach().numpy().T\n",
    "    target = sample[n, :, :].cpu().detach().numpy().T\n",
    "    plt.figure()\n",
    "    plt.plot(ref)\n",
    "    plt.figure()\n",
    "    plt.plot(target)\n",
    "    \n",
    "    p_score  = pesq(ref[:, 0], target[:, 0], 16000)\n",
    "    print(p_score)"
   ]
  },
  {
   "cell_type": "code",
   "execution_count": 51,
   "metadata": {},
   "outputs": [],
   "source": [
    "torch.save(model.state_dict(), 'models/seae.pth')"
   ]
  },
  {
   "cell_type": "code",
   "execution_count": null,
   "metadata": {},
   "outputs": [],
   "source": [
    "f = 'data/clean/open_slr/2902-9006-0001.wav'\n",
    "wave, _ = torchaudio.load(f)\n",
    "specgram = torchaudio.transforms.Spectrogram(1024, 300)(wave)\n",
    "\n",
    "print(\"Shape of spectrogram: {}\".format(specgram.size()))\n",
    "\n",
    "plt.figure()\n",
    "plt.imshow(specgram.log2()[0,:,:].numpy())"
   ]
  }
 ],
 "metadata": {
  "kernelspec": {
   "display_name": "Python 3",
   "language": "python",
   "name": "python3"
  },
  "language_info": {
   "codemirror_mode": {
    "name": "ipython",
    "version": 3
   },
   "file_extension": ".py",
   "mimetype": "text/x-python",
   "name": "python",
   "nbconvert_exporter": "python",
   "pygments_lexer": "ipython3",
   "version": "3.7.4"
  }
 },
 "nbformat": 4,
 "nbformat_minor": 4
}
